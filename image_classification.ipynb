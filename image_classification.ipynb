{
 "cells": [
  {
   "metadata": {
    "ExecuteTime": {
     "end_time": "2024-06-16T20:57:41.106994Z",
     "start_time": "2024-06-16T20:57:41.088848Z"
    }
   },
   "cell_type": "code",
   "source": [
    "import os\n",
    "import random\n",
    "import shutil"
   ],
   "id": "cf532ec9a0668813",
   "outputs": [],
   "execution_count": 1
  },
  {
   "metadata": {
    "ExecuteTime": {
     "end_time": "2024-06-16T20:57:41.122725Z",
     "start_time": "2024-06-16T20:57:41.106994Z"
    }
   },
   "cell_type": "code",
   "source": [
    "root = 'C:/Users/nithi/Desktop/FAU/Semester-4/Master_Thesis_Federated_Learning/Dataset'\n",
    "\n",
    "# Path to image folder\n",
    "data_folder_atelectasis = root + '/sample/images/Atelectasis'\n",
    "data_folder_cardiomegaly = root + '/sample/images/Cardiomegaly'"
   ],
   "id": "7c3dce91e83b8b28",
   "outputs": [],
   "execution_count": 2
  },
  {
   "metadata": {
    "ExecuteTime": {
     "end_time": "2024-06-16T20:57:41.138790Z",
     "start_time": "2024-06-16T20:57:41.126524Z"
    }
   },
   "cell_type": "code",
   "source": [
    "# path to atelectasis destination folders\n",
    "train_folder_atelectasis = os.path.join(data_folder_atelectasis, 'train')\n",
    "val_folder_atelectasis = os.path.join(data_folder_atelectasis, 'eval')\n",
    "test_folder_atelectasis = os.path.join(data_folder_atelectasis, 'test')\n",
    "\n",
    "# path to cardiomegaly destination folders\n",
    "train_folder_cardiomegaly = os.path.join(data_folder_cardiomegaly, 'train')\n",
    "val_folder_cardiomegaly = os.path.join(data_folder_cardiomegaly, 'eval')\n",
    "test_folder_cardiomegaly = os.path.join(data_folder_cardiomegaly, 'test')"
   ],
   "id": "c63c4b665c7d73bd",
   "outputs": [],
   "execution_count": 3
  },
  {
   "metadata": {
    "ExecuteTime": {
     "end_time": "2024-06-16T20:57:41.154909Z",
     "start_time": "2024-06-16T20:57:41.138790Z"
    }
   },
   "cell_type": "code",
   "source": [
    "# Define a list of image extensions\n",
    "image_extensions = ['.jpg', '.jpeg', '.png', '.bmp']\n",
    "\n",
    "# Create a list of image filenames in 'data_path'\n",
    "images_list_atelectasis = [filename for filename in os.listdir(data_folder_atelectasis) if os.path.splitext(filename)[-1] in image_extensions]\n",
    "\n",
    "images_list_cardiomegaly = [filename for filename in os.listdir(data_folder_cardiomegaly) if os.path.splitext(filename)[-1] in image_extensions]\n"
   ],
   "id": "a5d0923f1819ffcd",
   "outputs": [],
   "execution_count": 4
  },
  {
   "metadata": {
    "ExecuteTime": {
     "end_time": "2024-06-16T20:57:41.170550Z",
     "start_time": "2024-06-16T20:57:41.157190Z"
    }
   },
   "cell_type": "code",
   "source": [
    "# Sets the random seed \n",
    "random.seed(42)\n",
    "\n",
    "# Shuffle the list of image filenames\n",
    "random.shuffle(images_list_atelectasis)\n",
    "\n",
    "# determine the number of images for each set\n",
    "train_size = int(len(images_list_atelectasis) * 0.70)\n",
    "val_size = int(len(images_list_atelectasis) * 0.15)\n",
    "test_size = int(len(images_list_atelectasis) * 0.15)"
   ],
   "id": "34265f4418dfaf6b",
   "outputs": [],
   "execution_count": 5
  },
  {
   "metadata": {
    "ExecuteTime": {
     "end_time": "2024-06-16T20:57:41.186276Z",
     "start_time": "2024-06-16T20:57:41.171794Z"
    }
   },
   "cell_type": "code",
   "source": [
    "# Create destination folders if they don't exist\n",
    "for folder_path in [train_folder_atelectasis, val_folder_atelectasis, test_folder_atelectasis]:\n",
    "    if not os.path.exists(folder_path):\n",
    "        os.makedirs(folder_path)"
   ],
   "id": "b9037b9a95e10ec8",
   "outputs": [],
   "execution_count": 6
  },
  {
   "metadata": {
    "ExecuteTime": {
     "end_time": "2024-06-16T20:57:41.645723Z",
     "start_time": "2024-06-16T20:57:41.186276Z"
    }
   },
   "cell_type": "code",
   "source": [
    "# Copy image files to destination folders\n",
    "for i, f in enumerate(images_list_atelectasis):\n",
    "    if i < train_size:\n",
    "        dest_folder = train_folder_atelectasis\n",
    "    elif i < train_size + val_size:\n",
    "        dest_folder = val_folder_atelectasis\n",
    "    else:\n",
    "        dest_folder = test_folder_atelectasis\n",
    "    shutil.copy(os.path.join(data_folder_atelectasis, f), os.path.join(dest_folder, f))"
   ],
   "id": "7884e2602425d3a4",
   "outputs": [],
   "execution_count": 7
  },
  {
   "metadata": {
    "ExecuteTime": {
     "end_time": "2024-06-16T20:57:41.661714Z",
     "start_time": "2024-06-16T20:57:41.645723Z"
    }
   },
   "cell_type": "code",
   "source": [
    "# Sets the random seed \n",
    "random.seed(42)\n",
    "\n",
    "# Shuffle the list of image filenames\n",
    "random.shuffle(images_list_cardiomegaly)\n",
    "\n",
    "# determine the number of images for each set\n",
    "train_size = int(len(images_list_cardiomegaly) * 0.70)\n",
    "val_size = int(len(images_list_cardiomegaly) * 0.15)\n",
    "test_size = int(len(images_list_cardiomegaly) * 0.15)"
   ],
   "id": "636b667da85301e3",
   "outputs": [],
   "execution_count": 8
  },
  {
   "metadata": {
    "ExecuteTime": {
     "end_time": "2024-06-16T20:57:41.677601Z",
     "start_time": "2024-06-16T20:57:41.661714Z"
    }
   },
   "cell_type": "code",
   "source": [
    "# Create destination folders if they don't exist\n",
    "for folder_path in [train_folder_cardiomegaly, val_folder_cardiomegaly, test_folder_cardiomegaly]:\n",
    "    if not os.path.exists(folder_path):\n",
    "        os.makedirs(folder_path)"
   ],
   "id": "76e30966d14820e7",
   "outputs": [],
   "execution_count": 9
  },
  {
   "metadata": {
    "ExecuteTime": {
     "end_time": "2024-06-16T20:57:41.916336Z",
     "start_time": "2024-06-16T20:57:41.677601Z"
    }
   },
   "cell_type": "code",
   "source": [
    "# Copy image files to destination folders\n",
    "for i, f in enumerate(images_list_cardiomegaly):\n",
    "    if i < train_size:\n",
    "        dest_folder = train_folder_cardiomegaly\n",
    "    elif i < train_size + val_size:\n",
    "        dest_folder = val_folder_cardiomegaly\n",
    "    else:\n",
    "        dest_folder = test_folder_cardiomegaly\n",
    "    shutil.copy(os.path.join(data_folder_cardiomegaly, f), os.path.join(dest_folder, f))"
   ],
   "id": "b1a3387c4c2dbafa",
   "outputs": [],
   "execution_count": 10
  },
  {
   "metadata": {
    "ExecuteTime": {
     "end_time": "2024-06-16T20:57:41.931971Z",
     "start_time": "2024-06-16T20:57:41.916336Z"
    }
   },
   "cell_type": "code",
   "source": "",
   "id": "3314fb7f1182038",
   "outputs": [],
   "execution_count": 10
  }
 ],
 "metadata": {
  "kernelspec": {
   "display_name": "Python 3",
   "language": "python",
   "name": "python3"
  },
  "language_info": {
   "codemirror_mode": {
    "name": "ipython",
    "version": 2
   },
   "file_extension": ".py",
   "mimetype": "text/x-python",
   "name": "python",
   "nbconvert_exporter": "python",
   "pygments_lexer": "ipython2",
   "version": "2.7.6"
  }
 },
 "nbformat": 4,
 "nbformat_minor": 5
}
