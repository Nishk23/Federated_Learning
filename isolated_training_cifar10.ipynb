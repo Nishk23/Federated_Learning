{
  "nbformat": 4,
  "nbformat_minor": 0,
  "metadata": {
    "colab": {
      "provenance": [],
      "machine_shape": "hm",
      "gpuType": "A100",
      "authorship_tag": "ABX9TyMvj3we8vceet0Wv/mxZqvR",
      "include_colab_link": true
    },
    "kernelspec": {
      "name": "python3",
      "display_name": "Python 3"
    },
    "language_info": {
      "name": "python"
    },
    "accelerator": "GPU"
  },
  "cells": [
    {
      "cell_type": "markdown",
      "metadata": {
        "id": "view-in-github",
        "colab_type": "text"
      },
      "source": [
        "<a href=\"https://colab.research.google.com/github/Nishk23/Federated_Learning/blob/main/isolated_training_cifar10.ipynb\" target=\"_parent\"><img src=\"https://colab.research.google.com/assets/colab-badge.svg\" alt=\"Open In Colab\"/></a>"
      ]
    },
    {
      "cell_type": "code",
      "execution_count": null,
      "metadata": {
        "id": "-ucwFH4HPv7Q"
      },
      "outputs": [],
      "source": [
        "import torch\n",
        "import torch.nn as nn\n",
        "import torch.optim as optim\n",
        "import torch.utils.data as data\n",
        "import torchvision.transforms as transforms\n",
        "import torchvision.datasets as datasets\n",
        "import torchvision.models as models\n",
        "from sklearn.metrics import accuracy_score, precision_recall_fscore_support\n",
        "import json\n",
        "import os\n",
        "from torch.utils.data import random_split\n",
        "from torch.optim import lr_scheduler\n",
        "from tqdm import tqdm"
      ]
    },
    {
      "cell_type": "code",
      "source": [
        "from google.colab import drive\n",
        "drive.mount('/content/drive')"
      ],
      "metadata": {
        "colab": {
          "base_uri": "https://localhost:8080/"
        },
        "id": "2rJZiDAgducy",
        "outputId": "e20f446e-9d81-4648-d356-8bcae2c72156"
      },
      "execution_count": null,
      "outputs": [
        {
          "output_type": "stream",
          "name": "stdout",
          "text": [
            "Mounted at /content/drive\n"
          ]
        }
      ]
    },
    {
      "cell_type": "code",
      "source": [
        "# Device setup\n",
        "device = torch.device('cuda' if torch.cuda.is_available() else 'cpu')\n",
        "\n",
        "print(device)"
      ],
      "metadata": {
        "colab": {
          "base_uri": "https://localhost:8080/"
        },
        "id": "ofWHK3qseRWh",
        "outputId": "58164636-cedf-401f-ab3b-bbc783685d93"
      },
      "execution_count": null,
      "outputs": [
        {
          "output_type": "stream",
          "name": "stdout",
          "text": [
            "cuda\n"
          ]
        }
      ]
    },
    {
      "cell_type": "code",
      "source": [
        "# Set hyperparameters\n",
        "epochs = 10\n",
        "batch_size = 64\n",
        "learning_rate = 0.001\n",
        "l2_lambda = 0.001\n",
        "dropout_rate = 0.5\n",
        "num_clients = 3"
      ],
      "metadata": {
        "id": "TYkkE7GNeRZV"
      },
      "execution_count": null,
      "outputs": []
    },
    {
      "cell_type": "code",
      "source": [
        "# Data augmentation\n",
        "transform_train = transforms.Compose([\n",
        "    transforms.RandomRotation(15),\n",
        "    transforms.RandomHorizontalFlip(),\n",
        "    transforms.RandomAffine(degrees=0, translate=(0.1, 0.1), shear=0.2),\n",
        "    transforms.ColorJitter(brightness=(0.8, 1.2)),\n",
        "    transforms.RandomResizedCrop(size=32, scale=(0.8, 1.2)),\n",
        "    transforms.ToTensor(),\n",
        "    transforms.Normalize((0.4914, 0.4822, 0.4465), (0.247, 0.243, 0.261))\n",
        "])\n",
        "\n",
        "transform_test = transforms.Compose([\n",
        "    transforms.ToTensor(),\n",
        "    transforms.Normalize((0.4914, 0.4822, 0.4465), (0.247, 0.243, 0.261))\n",
        "])"
      ],
      "metadata": {
        "id": "eiwUrCcdeed0"
      },
      "execution_count": null,
      "outputs": []
    },
    {
      "cell_type": "code",
      "source": [
        "# Load CIFAR-10 dataset\n",
        "cifar10_dataset = datasets.CIFAR10(root='./data', train=True, download=True, transform=transform_train)\n",
        "\n",
        "# Split dataset among clients\n",
        "dataset_length = len(cifar10_dataset)\n",
        "lengths = [dataset_length // num_clients] * num_clients\n",
        "\n",
        "# Distribute any remaining items due to division\n",
        "for i in range(dataset_length % num_clients):\n",
        "    lengths[i] += 1\n",
        "\n",
        "# Split the dataset among clients using the calculated lengths\n",
        "client_datasets = random_split(cifar10_dataset, lengths)\n",
        "\n",
        "# Test dataset for evaluation (same for all clients)\n",
        "test_dataset = datasets.CIFAR10(root='./data', train=False, download=True, transform=transform_test)\n",
        "test_loader = data.DataLoader(test_dataset, batch_size=batch_size, shuffle=False)"
      ],
      "metadata": {
        "colab": {
          "base_uri": "https://localhost:8080/"
        },
        "id": "T44cnOgNeegU",
        "outputId": "e9268552-1920-4e1e-c74b-193130989f06"
      },
      "execution_count": null,
      "outputs": [
        {
          "output_type": "stream",
          "name": "stdout",
          "text": [
            "Files already downloaded and verified\n",
            "Files already downloaded and verified\n"
          ]
        }
      ]
    },
    {
      "cell_type": "code",
      "source": [
        "# Function to create data loaders\n",
        "def create_data_loaders(dataset):\n",
        "    train_size = int(0.8 * len(dataset))\n",
        "    test_size = len(dataset) - train_size\n",
        "    train_dataset, _ = random_split(dataset, [train_size, test_size])\n",
        "    train_loader = data.DataLoader(train_dataset, batch_size=batch_size, shuffle=True)\n",
        "    return train_loader"
      ],
      "metadata": {
        "id": "OU2Ri3JneeiX"
      },
      "execution_count": null,
      "outputs": []
    },
    {
      "cell_type": "code",
      "source": [
        "# Custom ResNet model with dropout\n",
        "class ResNetDropout(nn.Module):\n",
        "    def __init__(self, dropout_rate):\n",
        "        super(ResNetDropout, self).__init__()\n",
        "        self.model = models.resnet18(pretrained=True)\n",
        "        self.model.fc = nn.Sequential(\n",
        "            nn.Dropout(p=dropout_rate),\n",
        "            nn.Linear(self.model.fc.in_features, 10)\n",
        "        )\n",
        "\n",
        "    def forward(self, x):\n",
        "        return self.model(x)"
      ],
      "metadata": {
        "id": "nyxUjROTeekn"
      },
      "execution_count": null,
      "outputs": []
    },
    {
      "cell_type": "code",
      "source": [
        "# Function to train the model\n",
        "def train_model(model, train_loader, epochs, learning_rate, l2_lambda):\n",
        "    criterion = nn.CrossEntropyLoss()\n",
        "    optimizer = optim.Adam(model.parameters(), lr=learning_rate, weight_decay=l2_lambda)\n",
        "    scheduler = lr_scheduler.StepLR(optimizer, step_size=7, gamma=0.1)\n",
        "\n",
        "    model.train()\n",
        "    for epoch in range(epochs):\n",
        "        epoch_loss = 0.0\n",
        "        with tqdm(train_loader, unit=\"batch\") as tepoch:\n",
        "            tepoch.set_description(f\"Epoch {epoch + 1}/{epochs}\")\n",
        "            for inputs, labels in tepoch:\n",
        "                inputs, labels = inputs.to(device), labels.to(device)\n",
        "                optimizer.zero_grad()\n",
        "                outputs = model(inputs)\n",
        "                loss = criterion(outputs, labels)\n",
        "                loss.backward()\n",
        "                optimizer.step()\n",
        "\n",
        "                epoch_loss += loss.item()\n",
        "                tepoch.set_postfix(loss=epoch_loss / len(tepoch))\n",
        "        scheduler.step()"
      ],
      "metadata": {
        "id": "O77PQTDAeenI"
      },
      "execution_count": null,
      "outputs": []
    },
    {
      "cell_type": "code",
      "source": [
        "def evaluate_model(model, test_loader):\n",
        "    model.eval()\n",
        "    all_preds = []\n",
        "    all_labels = []\n",
        "    with torch.no_grad():\n",
        "        for inputs, labels in test_loader:\n",
        "            inputs, labels = inputs.to(device), labels.to(device)\n",
        "            outputs = model(inputs)\n",
        "            _, preds = torch.max(outputs, 1)\n",
        "            all_preds.extend(preds.cpu().numpy())\n",
        "            all_labels.extend(labels.cpu().numpy())\n",
        "\n",
        "    accuracy = accuracy_score(all_labels, all_preds)\n",
        "    precision, recall, f1, _ = precision_recall_fscore_support(all_labels, all_preds, average='weighted')\n",
        "    return accuracy, precision, recall, f1"
      ],
      "metadata": {
        "id": "T09wx2Waeept"
      },
      "execution_count": null,
      "outputs": []
    },
    {
      "cell_type": "code",
      "source": [
        "# Main process for training and evaluating models for each client\n",
        "isolated_client_performance_metrics = {}\n",
        "\n",
        "for i, client_dataset in enumerate(client_datasets):\n",
        "    train_loader = create_data_loaders(client_dataset)\n",
        "    model = ResNetDropout(dropout_rate=dropout_rate).to(device)\n",
        "    train_model(model, train_loader, epochs=epochs, learning_rate=learning_rate, l2_lambda=l2_lambda)\n",
        "    accuracy, precision, recall, f1 = evaluate_model(model, test_loader)\n",
        "\n",
        "    isolated_client_performance_metrics[f'client_{i+1}'] = {\n",
        "        'accuracy': accuracy,\n",
        "        'precision': precision,\n",
        "        'recall': recall,\n",
        "        'f1_score': f1\n",
        "    }\n",
        "\n",
        "    print(f\"Client {i+1} - Accuracy: {accuracy:.4f}, Precision: {precision:.4f}, Recall: {recall:.4f}, F1 Score: {f1:.4f}\")"
      ],
      "metadata": {
        "colab": {
          "base_uri": "https://localhost:8080/"
        },
        "id": "CQr6ObTWeesJ",
        "outputId": "273a5c6f-4779-41aa-db0b-03ab6c9532b4"
      },
      "execution_count": null,
      "outputs": [
        {
          "output_type": "stream",
          "name": "stderr",
          "text": [
            "Epoch 1/10: 100%|██████████| 209/209 [00:15<00:00, 13.23batch/s, loss=1.71]\n",
            "Epoch 2/10: 100%|██████████| 209/209 [00:15<00:00, 13.26batch/s, loss=1.3]\n",
            "Epoch 3/10: 100%|██████████| 209/209 [00:15<00:00, 13.25batch/s, loss=1.19]\n",
            "Epoch 4/10: 100%|██████████| 209/209 [00:15<00:00, 13.18batch/s, loss=1.11]\n",
            "Epoch 5/10: 100%|██████████| 209/209 [00:15<00:00, 13.20batch/s, loss=1.07]\n",
            "Epoch 6/10: 100%|██████████| 209/209 [00:15<00:00, 13.21batch/s, loss=1.02]\n",
            "Epoch 7/10: 100%|██████████| 209/209 [00:15<00:00, 13.17batch/s, loss=0.992]\n",
            "Epoch 8/10: 100%|██████████| 209/209 [00:15<00:00, 13.22batch/s, loss=0.804]\n",
            "Epoch 9/10: 100%|██████████| 209/209 [00:15<00:00, 13.25batch/s, loss=0.724]\n",
            "Epoch 10/10: 100%|██████████| 209/209 [00:15<00:00, 13.16batch/s, loss=0.688]\n"
          ]
        },
        {
          "output_type": "stream",
          "name": "stdout",
          "text": [
            "Client 1 - Accuracy: 0.7833, Precision: 0.7799, Recall: 0.7833, F1 Score: 0.7794\n"
          ]
        },
        {
          "output_type": "stream",
          "name": "stderr",
          "text": [
            "/usr/local/lib/python3.10/dist-packages/torchvision/models/_utils.py:208: UserWarning: The parameter 'pretrained' is deprecated since 0.13 and may be removed in the future, please use 'weights' instead.\n",
            "  warnings.warn(\n",
            "/usr/local/lib/python3.10/dist-packages/torchvision/models/_utils.py:223: UserWarning: Arguments other than a weight enum or `None` for 'weights' are deprecated since 0.13 and may be removed in the future. The current behavior is equivalent to passing `weights=ResNet18_Weights.IMAGENET1K_V1`. You can also use `weights=ResNet18_Weights.DEFAULT` to get the most up-to-date weights.\n",
            "  warnings.warn(msg)\n",
            "Epoch 1/10: 100%|██████████| 209/209 [00:15<00:00, 13.18batch/s, loss=1.66]\n",
            "Epoch 2/10: 100%|██████████| 209/209 [00:15<00:00, 13.17batch/s, loss=1.28]\n",
            "Epoch 3/10: 100%|██████████| 209/209 [00:15<00:00, 13.15batch/s, loss=1.15]\n",
            "Epoch 4/10: 100%|██████████| 209/209 [00:15<00:00, 13.14batch/s, loss=1.11]\n",
            "Epoch 5/10: 100%|██████████| 209/209 [00:15<00:00, 13.23batch/s, loss=1.04]\n",
            "Epoch 6/10: 100%|██████████| 209/209 [00:15<00:00, 13.25batch/s, loss=1]\n",
            "Epoch 7/10: 100%|██████████| 209/209 [00:15<00:00, 13.25batch/s, loss=0.979]\n",
            "Epoch 8/10: 100%|██████████| 209/209 [00:15<00:00, 13.19batch/s, loss=0.796]\n",
            "Epoch 9/10: 100%|██████████| 209/209 [00:15<00:00, 13.23batch/s, loss=0.732]\n",
            "Epoch 10/10: 100%|██████████| 209/209 [00:15<00:00, 13.17batch/s, loss=0.69]\n"
          ]
        },
        {
          "output_type": "stream",
          "name": "stdout",
          "text": [
            "Client 2 - Accuracy: 0.7762, Precision: 0.7773, Recall: 0.7762, F1 Score: 0.7719\n"
          ]
        },
        {
          "output_type": "stream",
          "name": "stderr",
          "text": [
            "/usr/local/lib/python3.10/dist-packages/torchvision/models/_utils.py:208: UserWarning: The parameter 'pretrained' is deprecated since 0.13 and may be removed in the future, please use 'weights' instead.\n",
            "  warnings.warn(\n",
            "/usr/local/lib/python3.10/dist-packages/torchvision/models/_utils.py:223: UserWarning: Arguments other than a weight enum or `None` for 'weights' are deprecated since 0.13 and may be removed in the future. The current behavior is equivalent to passing `weights=ResNet18_Weights.IMAGENET1K_V1`. You can also use `weights=ResNet18_Weights.DEFAULT` to get the most up-to-date weights.\n",
            "  warnings.warn(msg)\n",
            "Epoch 1/10: 100%|██████████| 209/209 [00:15<00:00, 13.17batch/s, loss=1.68]\n",
            "Epoch 2/10: 100%|██████████| 209/209 [00:15<00:00, 13.08batch/s, loss=1.28]\n",
            "Epoch 3/10: 100%|██████████| 209/209 [00:16<00:00, 13.04batch/s, loss=1.18]\n",
            "Epoch 4/10: 100%|██████████| 209/209 [00:15<00:00, 13.18batch/s, loss=1.1]\n",
            "Epoch 5/10: 100%|██████████| 209/209 [00:15<00:00, 13.19batch/s, loss=1.05]\n",
            "Epoch 6/10: 100%|██████████| 209/209 [00:15<00:00, 13.14batch/s, loss=1]\n",
            "Epoch 7/10: 100%|██████████| 209/209 [00:15<00:00, 13.24batch/s, loss=0.987]\n",
            "Epoch 8/10: 100%|██████████| 209/209 [00:15<00:00, 13.26batch/s, loss=0.812]\n",
            "Epoch 9/10: 100%|██████████| 209/209 [00:15<00:00, 13.15batch/s, loss=0.72]\n",
            "Epoch 10/10: 100%|██████████| 209/209 [00:15<00:00, 13.24batch/s, loss=0.693]\n"
          ]
        },
        {
          "output_type": "stream",
          "name": "stdout",
          "text": [
            "Client 3 - Accuracy: 0.7786, Precision: 0.7776, Recall: 0.7786, F1 Score: 0.7749\n"
          ]
        }
      ]
    },
    {
      "cell_type": "code",
      "source": [
        "# Save the isolated performance metrics to a JSON file\n",
        "save_path = '/content/drive/My Drive/Federated_Learning'\n",
        "os.makedirs(save_path, exist_ok=True)\n",
        "json_file_path = os.path.join(save_path, 'isolated_client_performance_metrics.json')\n",
        "with open(json_file_path, 'w') as f:\n",
        "    json.dump(isolated_client_performance_metrics, f, indent=4)\n",
        "\n",
        "print(f\"Isolated performance metrics have been saved to '{json_file_path}'\")"
      ],
      "metadata": {
        "colab": {
          "base_uri": "https://localhost:8080/"
        },
        "id": "0nkCdWbseRcI",
        "outputId": "e2d76bb7-bbb2-4f08-c5ea-25d052606987"
      },
      "execution_count": null,
      "outputs": [
        {
          "output_type": "stream",
          "name": "stdout",
          "text": [
            "Isolated performance metrics have been saved to '/content/drive/My Drive/Federated_Learning/isolated_client_performance_metrics.json'\n"
          ]
        }
      ]
    }
  ]
}