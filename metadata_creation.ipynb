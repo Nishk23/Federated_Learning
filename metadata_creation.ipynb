{
 "cells": [
  {
   "cell_type": "code",
   "id": "initial_id",
   "metadata": {
    "collapsed": true,
    "ExecuteTime": {
     "end_time": "2024-06-18T13:49:59.325507Z",
     "start_time": "2024-06-18T13:49:58.308939Z"
    }
   },
   "source": [
    "import os\n",
    "\n",
    "import pandas as pd"
   ],
   "outputs": [],
   "execution_count": 1
  },
  {
   "metadata": {
    "ExecuteTime": {
     "end_time": "2024-06-18T13:50:08.558467Z",
     "start_time": "2024-06-18T13:50:08.544083Z"
    }
   },
   "cell_type": "code",
   "source": [
    "# Define the path to the dataset\n",
    "dataset_path = 'C:/Users/nithi/Desktop/FAU/Semester-4/Master_Thesis_Federated_Learning/Dataset/sample'"
   ],
   "id": "83864d1edbcb6367",
   "outputs": [],
   "execution_count": 2
  },
  {
   "metadata": {
    "ExecuteTime": {
     "end_time": "2024-06-18T13:50:10.823535Z",
     "start_time": "2024-06-18T13:50:10.807915Z"
    }
   },
   "cell_type": "code",
   "source": [
    "# Initialize lists to store image IDs and labels\n",
    "image_ids = []\n",
    "labels = []"
   ],
   "id": "71ac9536b43c3752",
   "outputs": [],
   "execution_count": 3
  },
  {
   "metadata": {
    "ExecuteTime": {
     "end_time": "2024-06-18T13:50:12.170111Z",
     "start_time": "2024-06-18T13:50:11.805966Z"
    }
   },
   "cell_type": "code",
   "source": [
    "# Iterate through each pathology folder\n",
    "for label in os.listdir(dataset_path):\n",
    "    folder_path = os.path.join(dataset_path, label)\n",
    "    if os.path.isdir(folder_path):\n",
    "        # Iterate through each image in the folder\n",
    "        for image_name in os.listdir(folder_path):\n",
    "            if image_name.endswith('.png'):\n",
    "                image_ids.append(image_name)\n",
    "                labels.append(label)"
   ],
   "id": "99efbc029fadd524",
   "outputs": [],
   "execution_count": 4
  },
  {
   "metadata": {
    "ExecuteTime": {
     "end_time": "2024-06-18T13:50:13.962332Z",
     "start_time": "2024-06-18T13:50:13.935433Z"
    }
   },
   "cell_type": "code",
   "source": [
    "# Create a DataFrame from the lists\n",
    "metadata_df = pd.DataFrame({\n",
    "    'Image-ID': image_ids,\n",
    "    'Label': labels\n",
    "})"
   ],
   "id": "47ecbb95d1533ac9",
   "outputs": [],
   "execution_count": 5
  },
  {
   "metadata": {
    "ExecuteTime": {
     "end_time": "2024-06-18T13:50:15.955698Z",
     "start_time": "2024-06-18T13:50:15.924284Z"
    }
   },
   "cell_type": "code",
   "source": [
    "# Define the path to the output CSV file\n",
    "csv_path = 'C:/Users/nithi/Desktop/FAU/Semester-4/Master_Thesis_Federated_Learning/Dataset/sample/chest_image_metadata.csv'"
   ],
   "id": "d9708e26a6c5b086",
   "outputs": [],
   "execution_count": 6
  },
  {
   "metadata": {
    "ExecuteTime": {
     "end_time": "2024-06-18T13:50:18.563370Z",
     "start_time": "2024-06-18T13:50:18.500198Z"
    }
   },
   "cell_type": "code",
   "source": [
    "# Save the DataFrame to a CSV file\n",
    "metadata_df.to_csv(csv_path, index=False)"
   ],
   "id": "3c9498387082cc32",
   "outputs": [],
   "execution_count": 7
  },
  {
   "metadata": {
    "ExecuteTime": {
     "end_time": "2024-06-18T13:50:19.770635Z",
     "start_time": "2024-06-18T13:50:19.754634Z"
    }
   },
   "cell_type": "code",
   "source": "print(f\"Metadata Excel file created successfully at {csv_path}\")",
   "id": "7104eddc10a8fcc1",
   "outputs": [
    {
     "name": "stdout",
     "output_type": "stream",
     "text": [
      "Metadata Excel file created successfully at C:/Users/nithi/Desktop/FAU/Semester-4/Master_Thesis_Federated_Learning/Dataset/sample/chest_image_metadata.csv\n"
     ]
    }
   ],
   "execution_count": 8
  },
  {
   "metadata": {},
   "cell_type": "code",
   "outputs": [],
   "execution_count": null,
   "source": "",
   "id": "7cd40cac22b63161"
  }
 ],
 "metadata": {
  "kernelspec": {
   "display_name": "Python 3",
   "language": "python",
   "name": "python3"
  },
  "language_info": {
   "codemirror_mode": {
    "name": "ipython",
    "version": 2
   },
   "file_extension": ".py",
   "mimetype": "text/x-python",
   "name": "python",
   "nbconvert_exporter": "python",
   "pygments_lexer": "ipython2",
   "version": "2.7.6"
  }
 },
 "nbformat": 4,
 "nbformat_minor": 5
}
