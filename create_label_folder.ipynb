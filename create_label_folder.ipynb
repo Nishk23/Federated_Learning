{
 "cells": [
  {
   "metadata": {
    "ExecuteTime": {
     "end_time": "2024-06-11T08:12:13.693128Z",
     "start_time": "2024-06-11T08:12:13.304442Z"
    }
   },
   "cell_type": "code",
   "source": [
    "import os\n",
    "import shutil\n",
    "import pandas as pd"
   ],
   "id": "324f9dbde6c6b799",
   "outputs": [],
   "execution_count": 1
  },
  {
   "metadata": {
    "ExecuteTime": {
     "end_time": "2024-06-11T08:12:22.930172Z",
     "start_time": "2024-06-11T08:12:22.914549Z"
    }
   },
   "cell_type": "code",
   "source": [
    "# Path to your image folder\n",
    "image_folder = 'C:/Users/nithi/Desktop/FAU/Semester-4/Master_Thesis_Federated_Learning/Dataset/sample/images'\n",
    "\n",
    "# Path to your CSV file containing metadata\n",
    "csv_file_path = 'C:/Users/nithi/Desktop/FAU/Semester-4/Master_Thesis_Federated_Learning/Dataset/sample_labels.csv'"
   ],
   "id": "3d0184795f6e8e50",
   "outputs": [],
   "execution_count": 2
  },
  {
   "metadata": {
    "ExecuteTime": {
     "end_time": "2024-06-11T08:13:28.010039Z",
     "start_time": "2024-06-11T08:13:12.799396Z"
    }
   },
   "cell_type": "code",
   "source": [
    "# Read the metadata from the CSV file\n",
    "metadata = pd.read_csv(csv_file_path)\n",
    "\n",
    "# Extract only numeric part from the 'Age' column (if necessary)\n",
    "# metadata['Age'] = metadata['Age'].str.extract('(\\d+)').astype(int)\n",
    "\n",
    "# Ensure the 'Labels' column exists\n",
    "if 'Labels' not in metadata.columns:\n",
    "    raise ValueError(\"The CSV file must contain a 'Labels' column.\")\n",
    "\n",
    "# Process each image and its labels\n",
    "for index, row in metadata.iterrows():\n",
    "    file_name = row['Image-ID']\n",
    "    labels = row['Labels'].split('|')\n",
    "    \n",
    "    for label in labels:\n",
    "        label_folder = os.path.join(image_folder, label)\n",
    "        if not os.path.exists(label_folder):\n",
    "            os.makedirs(label_folder)\n",
    "        \n",
    "        src_path = os.path.join(image_folder, file_name)\n",
    "        dest_path = os.path.join(label_folder, file_name)\n",
    "        \n",
    "        # Copy the image to the respective label folder\n",
    "        if os.path.exists(src_path):\n",
    "            shutil.copy2(src_path, dest_path)\n",
    "        else:\n",
    "            print(f\"Warning: {src_path} does not exist and will be skipped.\")\n",
    "\n",
    "print(\"Image segregation completed.\")"
   ],
   "id": "90a5b52689ac82f7",
   "outputs": [
    {
     "name": "stdout",
     "output_type": "stream",
     "text": [
      "Image segregation completed.\n"
     ]
    }
   ],
   "execution_count": 3
  },
  {
   "metadata": {},
   "cell_type": "code",
   "outputs": [],
   "execution_count": null,
   "source": "",
   "id": "ce0dd143f95ffd24"
  },
  {
   "metadata": {},
   "cell_type": "markdown",
   "source": "",
   "id": "4f43ce38cab3387c"
  }
 ],
 "metadata": {
  "kernelspec": {
   "display_name": "Python 3",
   "language": "python",
   "name": "python3"
  },
  "language_info": {
   "codemirror_mode": {
    "name": "ipython",
    "version": 2
   },
   "file_extension": ".py",
   "mimetype": "text/x-python",
   "name": "python",
   "nbconvert_exporter": "python",
   "pygments_lexer": "ipython2",
   "version": "2.7.6"
  }
 },
 "nbformat": 4,
 "nbformat_minor": 5
}
