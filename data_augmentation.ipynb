{
 "cells": [
  {
   "cell_type": "code",
   "id": "initial_id",
   "metadata": {
    "collapsed": true,
    "ExecuteTime": {
     "end_time": "2024-06-17T12:21:33.010728Z",
     "start_time": "2024-06-17T12:21:31.869899Z"
    }
   },
   "source": [
    "import os\n",
    "import numpy as np\n",
    "import shutil\n",
    "from tqdm import tqdm\n",
    "from imgaug import augmenters as iaa\n",
    "from PIL import Image"
   ],
   "outputs": [],
   "execution_count": 1
  },
  {
   "metadata": {
    "ExecuteTime": {
     "end_time": "2024-06-17T12:21:36.879373Z",
     "start_time": "2024-06-17T12:21:36.863336Z"
    }
   },
   "cell_type": "code",
   "source": [
    "root = 'C:/Users/nithi/Desktop/FAU/Semester-4/Master_Thesis_Federated_Learning/Dataset/sample'\n",
    "\n",
    "# Path to the dataset\n",
    "data_path = root + '/images'\n",
    "balanced_data_path = root\n",
    "\n",
    "# Class labels\n",
    "classes = ['Hernia', 'Pneumonia', 'Fibrosis', 'Nodule', 'Mass', 'Consolidation', 'Effusion', 'Edema', 'Atelectasis', 'No Finding', 'Cardiomegaly', 'Pneumothorax', 'Pleural_Thickening', 'Infiltration', 'Emphysema']\n"
   ],
   "id": "42db9698c00a45b",
   "outputs": [],
   "execution_count": 2
  },
  {
   "metadata": {
    "ExecuteTime": {
     "end_time": "2024-06-17T12:21:37.866593Z",
     "start_time": "2024-06-17T12:21:37.850955Z"
    }
   },
   "cell_type": "code",
   "source": [
    "# Create a directory for balanced data if it doesn't exist\n",
    "os.makedirs(balanced_data_path, exist_ok=True)"
   ],
   "id": "17e1e1dc2cdb5045",
   "outputs": [],
   "execution_count": 3
  },
  {
   "metadata": {
    "ExecuteTime": {
     "end_time": "2024-06-17T12:21:40.563863Z",
     "start_time": "2024-06-17T12:21:40.547761Z"
    }
   },
   "cell_type": "code",
   "source": [
    "# Data augmentation sequence\n",
    "augmentation_seq = iaa.Sequential([\n",
    "    iaa.Fliplr(0.5),  # Horizontal flip 50% of images\n",
    "    iaa.Crop(percent=(0, 0.1)),  # Random crop\n",
    "    iaa.Affine(rotate=(-20, 20)),  # Rotate images\n",
    "    iaa.LinearContrast((0.75, 1.5)),  # Change contrast\n",
    "    iaa.AdditiveGaussianNoise(scale=(0, 0.05*255)),  # Add Gaussian noise\n",
    "])"
   ],
   "id": "18b282efac1c0901",
   "outputs": [],
   "execution_count": 4
  },
  {
   "metadata": {
    "ExecuteTime": {
     "end_time": "2024-06-17T12:21:45.504320Z",
     "start_time": "2024-06-17T12:21:45.441458Z"
    }
   },
   "cell_type": "code",
   "source": [
    "# Count the number of images in each class\n",
    "class_counts = {class_name: len(os.listdir(os.path.join(data_path, class_name))) for class_name in classes}\n",
    "max_count = max(class_counts.values())"
   ],
   "id": "d82a01ae6f44fbc8",
   "outputs": [],
   "execution_count": 5
  },
  {
   "metadata": {
    "ExecuteTime": {
     "end_time": "2024-06-17T12:21:46.962290Z",
     "start_time": "2024-06-17T12:21:46.951297Z"
    }
   },
   "cell_type": "code",
   "source": [
    "def augment_images(class_name, img_paths, target_count):\n",
    "    os.makedirs(os.path.join(balanced_data_path, class_name), exist_ok=True)\n",
    "    img_count = len(img_paths)\n",
    "    iterations = (target_count - img_count) // img_count + 1\n",
    "    \n",
    "    for i in tqdm(range(iterations), desc=f'Augmenting {class_name}'):\n",
    "        for img_path in img_paths:\n",
    "            img = Image.open(img_path)\n",
    "            img_np = np.array(img)\n",
    "            augmented_images = augmentation_seq(images=[img_np])\n",
    "            for j, augmented_img in enumerate(augmented_images):\n",
    "                aug_img = Image.fromarray(augmented_img)\n",
    "                aug_img.save(os.path.join(balanced_data_path, class_name, f'{os.path.splitext(os.path.basename(img_path))[0]}_aug_{i}_{j}.png'))\n",
    "    \n",
    "    # Copy original images to the new folder\n",
    "    for img_path in img_paths:\n",
    "        shutil.copy(img_path, os.path.join(balanced_data_path, class_name))"
   ],
   "id": "5061e2c8a4637f09",
   "outputs": [],
   "execution_count": 6
  },
  {
   "metadata": {
    "ExecuteTime": {
     "end_time": "2024-06-17T13:10:36.641703Z",
     "start_time": "2024-06-17T12:21:50.229658Z"
    }
   },
   "cell_type": "code",
   "source": [
    "for class_name in classes:\n",
    "    class_folder = os.path.join(data_path, class_name)\n",
    "    img_paths = [os.path.join(class_folder, img_name) for img_name in os.listdir(class_folder)]\n",
    "    augment_images(class_name, img_paths, max_count)\n",
    "\n",
    "print(\"Data augmentation completed. Balanced dataset created.\")"
   ],
   "id": "6a3002dd8b4489ed",
   "outputs": [
    {
     "name": "stderr",
     "output_type": "stream",
     "text": [
      "Augmenting Atelectasis: 100%|██████████| 5/5 [05:37<00:00, 67.41s/it]\n",
      "Augmenting No Finding: 100%|██████████| 1/1 [07:48<00:00, 468.77s/it]\n",
      "Augmenting Cardiomegaly: 100%|██████████| 21/21 [07:15<00:00, 20.74s/it]\n",
      "Augmenting Pneumothorax: 100%|██████████| 11/11 [08:15<00:00, 45.08s/it]\n",
      "Augmenting Pleural_Thickening: 100%|██████████| 17/17 [06:45<00:00, 23.86s/it]\n",
      "Augmenting Infiltration: 100%|██████████| 3/3 [06:29<00:00, 129.91s/it]\n",
      "Augmenting Emphysema: 100%|██████████| 23/23 [06:24<00:00, 16.72s/it]"
     ]
    },
    {
     "name": "stdout",
     "output_type": "stream",
     "text": [
      "Data augmentation completed. Balanced dataset created.\n"
     ]
    },
    {
     "name": "stderr",
     "output_type": "stream",
     "text": [
      "\n"
     ]
    }
   ],
   "execution_count": 7
  },
  {
   "metadata": {},
   "cell_type": "code",
   "outputs": [],
   "execution_count": null,
   "source": "",
   "id": "525ffb5ac76b35a8"
  }
 ],
 "metadata": {
  "kernelspec": {
   "display_name": "Python 3",
   "language": "python",
   "name": "python3"
  },
  "language_info": {
   "codemirror_mode": {
    "name": "ipython",
    "version": 2
   },
   "file_extension": ".py",
   "mimetype": "text/x-python",
   "name": "python",
   "nbconvert_exporter": "python",
   "pygments_lexer": "ipython2",
   "version": "2.7.6"
  }
 },
 "nbformat": 4,
 "nbformat_minor": 5
}
