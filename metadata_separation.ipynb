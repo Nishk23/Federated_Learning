{
 "cells": [
  {
   "cell_type": "code",
   "id": "initial_id",
   "metadata": {
    "collapsed": true,
    "ExecuteTime": {
     "end_time": "2024-06-15T17:43:08.607026Z",
     "start_time": "2024-06-15T17:43:08.117492Z"
    }
   },
   "source": [
    "import os\n",
    "import pandas as pd"
   ],
   "outputs": [],
   "execution_count": 1
  },
  {
   "metadata": {
    "ExecuteTime": {
     "end_time": "2024-06-15T17:43:08.622798Z",
     "start_time": "2024-06-15T17:43:08.609848Z"
    }
   },
   "cell_type": "code",
   "source": [
    "def split_metadata_by_pathology(metadata_file, output_folder):\n",
    "    # Load the original metadata\n",
    "    metadata = pd.read_csv(metadata_file)\n",
    "    \n",
    "    # Create a list to store rows for each pathology\n",
    "    pathology_rows = {}\n",
    "    \n",
    "    # Iterate over each row in the metadata\n",
    "    for index, row in metadata.iterrows():\n",
    "        image_id = row['Image-ID']\n",
    "        labels = row['Labels'].split('|')\n",
    "        \n",
    "        # Iterate over each label\n",
    "        for label in labels:\n",
    "            if label not in pathology_rows:\n",
    "                pathology_rows[label] = []\n",
    "            # Create a new row with a single label\n",
    "            new_row = {'Image-ID': image_id, 'Labels': label}\n",
    "            pathology_rows[label].append(new_row)\n",
    "    \n",
    "    # Save each pathology dataframe to a separate CSV file\n",
    "    for pathology, rows in pathology_rows.items():\n",
    "        pathology_df = pd.DataFrame(rows)\n",
    "        pathology_df.to_csv(os.path.join(output_folder, f\"{pathology}_metadata.csv\"), index=False)\n",
    "        print(f\"Metadata file created for pathology: {pathology}\")"
   ],
   "id": "6dc66169b8739bd8",
   "outputs": [],
   "execution_count": 2
  },
  {
   "metadata": {
    "ExecuteTime": {
     "end_time": "2024-06-15T17:43:08.638936Z",
     "start_time": "2024-06-15T17:43:08.623919Z"
    }
   },
   "cell_type": "code",
   "source": [
    "# Path to your original metadata file\n",
    "metadata_file = 'C:/Users/nithi/Desktop/FAU/Semester-4/Master_Thesis_Federated_Learning/Dataset/sample_labels.csv'\n",
    "\n",
    "# Output folder to save the separate metadata files\n",
    "output_folder = 'C:/Users/nithi/Desktop/FAU/Semester-4/Master_Thesis_Federated_Learning/Dataset/pathology_metadata'"
   ],
   "id": "2f6febc1f4716bc7",
   "outputs": [],
   "execution_count": 3
  },
  {
   "metadata": {
    "ExecuteTime": {
     "end_time": "2024-06-15T17:43:08.654817Z",
     "start_time": "2024-06-15T17:43:08.640147Z"
    }
   },
   "cell_type": "code",
   "source": [
    "# Create the output folder if it doesn't exist\n",
    "os.makedirs(output_folder, exist_ok=True)"
   ],
   "id": "80ddca2ece5ce0ed",
   "outputs": [],
   "execution_count": 4
  },
  {
   "metadata": {
    "ExecuteTime": {
     "end_time": "2024-06-15T17:43:09.035910Z",
     "start_time": "2024-06-15T17:43:08.657565Z"
    }
   },
   "cell_type": "code",
   "source": [
    "# Split the metadata by pathology\n",
    "split_metadata_by_pathology(metadata_file, output_folder)"
   ],
   "id": "93b98ea2f6271f65",
   "outputs": [
    {
     "name": "stdout",
     "output_type": "stream",
     "text": [
      "Metadata file created for pathology: Emphysema\n",
      "Metadata file created for pathology: Infiltration\n",
      "Metadata file created for pathology: Pleural_Thickening\n",
      "Metadata file created for pathology: Pneumothorax\n",
      "Metadata file created for pathology: Cardiomegaly\n",
      "Metadata file created for pathology: No Finding\n",
      "Metadata file created for pathology: Atelectasis\n",
      "Metadata file created for pathology: Edema\n",
      "Metadata file created for pathology: Effusion\n",
      "Metadata file created for pathology: Consolidation\n",
      "Metadata file created for pathology: Mass\n",
      "Metadata file created for pathology: Nodule\n",
      "Metadata file created for pathology: Fibrosis\n",
      "Metadata file created for pathology: Pneumonia\n",
      "Metadata file created for pathology: Hernia\n"
     ]
    }
   ],
   "execution_count": 5
  },
  {
   "metadata": {
    "ExecuteTime": {
     "end_time": "2024-06-15T17:43:09.051870Z",
     "start_time": "2024-06-15T17:43:09.035910Z"
    }
   },
   "cell_type": "code",
   "source": "",
   "id": "1b5c9946b3987832",
   "outputs": [],
   "execution_count": 5
  }
 ],
 "metadata": {
  "kernelspec": {
   "display_name": "Python 3",
   "language": "python",
   "name": "python3"
  },
  "language_info": {
   "codemirror_mode": {
    "name": "ipython",
    "version": 2
   },
   "file_extension": ".py",
   "mimetype": "text/x-python",
   "name": "python",
   "nbconvert_exporter": "python",
   "pygments_lexer": "ipython2",
   "version": "2.7.6"
  }
 },
 "nbformat": 4,
 "nbformat_minor": 5
}
