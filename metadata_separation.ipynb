{
 "cells": [
  {
   "cell_type": "code",
   "id": "initial_id",
   "metadata": {
    "collapsed": true,
    "ExecuteTime": {
     "end_time": "2024-06-15T07:33:43.903302Z",
     "start_time": "2024-06-15T07:33:43.285225Z"
    }
   },
   "source": [
    "import os\n",
    "import pandas as pd"
   ],
   "outputs": [],
   "execution_count": 1
  },
  {
   "metadata": {
    "ExecuteTime": {
     "end_time": "2024-06-15T07:34:57.812045Z",
     "start_time": "2024-06-15T07:34:57.796407Z"
    }
   },
   "cell_type": "code",
   "source": [
    "def split_metadata_by_pathology(metadata_file, output_folder):\n",
    "    # Load the original metadata\n",
    "    metadata = pd.read_csv(metadata_file)\n",
    "    \n",
    "    # Create a dictionary to store dataframes for each pathology\n",
    "    pathology_dataframes = {}\n",
    "    \n",
    "    # Iterate over each row in the metadata\n",
    "    for index, row in metadata.iterrows():\n",
    "        image_id = row['Image-ID']\n",
    "        labels = row['Labels'].split('|')\n",
    "        \n",
    "        # Iterate over each label\n",
    "        for label in labels:\n",
    "            if label not in pathology_dataframes:\n",
    "                pathology_dataframes[label] = []\n",
    "            # Add the row to the respective pathology dataframe\n",
    "            pathology_dataframes[label].append(row)\n",
    "    \n",
    "    # Save each pathology dataframe to a separate CSV file\n",
    "    for pathology, rows in pathology_dataframes.items():\n",
    "        pathology_df = pd.DataFrame(rows)\n",
    "        pathology_df.to_csv(os.path.join(output_folder, f\"{pathology}_metadata.csv\"), index=False)\n",
    "        print(f\"Metadata file created for pathology: {pathology}\")"
   ],
   "id": "6dc66169b8739bd8",
   "outputs": [],
   "execution_count": 2
  },
  {
   "metadata": {
    "ExecuteTime": {
     "end_time": "2024-06-15T07:35:02.236711Z",
     "start_time": "2024-06-15T07:35:02.220686Z"
    }
   },
   "cell_type": "code",
   "source": [
    "# Path to your original metadata file\n",
    "metadata_file = 'C:/Users/nithi/Desktop/FAU/Semester-4/Master_Thesis_Federated_Learning/Dataset/sample_labels.csv'\n",
    "\n",
    "# Output folder to save the separate metadata files\n",
    "output_folder = 'C:/Users/nithi/Desktop/FAU/Semester-4/Master_Thesis_Federated_Learning/Dataset/pathology_metadata'"
   ],
   "id": "2f6febc1f4716bc7",
   "outputs": [],
   "execution_count": 3
  },
  {
   "metadata": {
    "ExecuteTime": {
     "end_time": "2024-06-15T07:35:36.846337Z",
     "start_time": "2024-06-15T07:35:36.830437Z"
    }
   },
   "cell_type": "code",
   "source": [
    "# Create the output folder if it doesn't exist\n",
    "os.makedirs(output_folder, exist_ok=True)"
   ],
   "id": "80ddca2ece5ce0ed",
   "outputs": [],
   "execution_count": 4
  },
  {
   "metadata": {
    "ExecuteTime": {
     "end_time": "2024-06-15T07:35:38.648735Z",
     "start_time": "2024-06-15T07:35:37.932852Z"
    }
   },
   "cell_type": "code",
   "source": [
    "# Split the metadata by pathology\n",
    "split_metadata_by_pathology(metadata_file, output_folder)"
   ],
   "id": "93b98ea2f6271f65",
   "outputs": [
    {
     "name": "stdout",
     "output_type": "stream",
     "text": [
      "Metadata file created for pathology: Emphysema\n",
      "Metadata file created for pathology: Infiltration\n",
      "Metadata file created for pathology: Pleural_Thickening\n",
      "Metadata file created for pathology: Pneumothorax\n",
      "Metadata file created for pathology: Cardiomegaly\n",
      "Metadata file created for pathology: No Finding\n",
      "Metadata file created for pathology: Atelectasis\n",
      "Metadata file created for pathology: Edema\n",
      "Metadata file created for pathology: Effusion\n",
      "Metadata file created for pathology: Consolidation\n",
      "Metadata file created for pathology: Mass\n",
      "Metadata file created for pathology: Nodule\n",
      "Metadata file created for pathology: Fibrosis\n",
      "Metadata file created for pathology: Pneumonia\n",
      "Metadata file created for pathology: Hernia\n"
     ]
    }
   ],
   "execution_count": 5
  },
  {
   "metadata": {},
   "cell_type": "code",
   "outputs": [],
   "execution_count": null,
   "source": "",
   "id": "1b5c9946b3987832"
  }
 ],
 "metadata": {
  "kernelspec": {
   "display_name": "Python 3",
   "language": "python",
   "name": "python3"
  },
  "language_info": {
   "codemirror_mode": {
    "name": "ipython",
    "version": 2
   },
   "file_extension": ".py",
   "mimetype": "text/x-python",
   "name": "python",
   "nbconvert_exporter": "python",
   "pygments_lexer": "ipython2",
   "version": "2.7.6"
  }
 },
 "nbformat": 4,
 "nbformat_minor": 5
}
